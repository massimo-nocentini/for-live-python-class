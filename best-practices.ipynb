{
 "cells": [
  {
   "cell_type": "markdown",
   "metadata": {
    "slideshow": {
     "slide_type": "slide"
    }
   },
   "source": [
    "# What's the name of this notebook?"
   ]
  },
  {
   "cell_type": "markdown",
   "metadata": {},
   "source": [
    "Up to the creation of this notebook we've discussed about:\n",
    "- first of all there was the shell, so we played with it a little bit with basic commands.\n",
    "- https://git-scm.com/, that allows us to take our projects under version control and to share our changes with other members of the development team.\n",
    "- https://docs.python.org/3/library/venv.html, that allows us to create *local* replicas of the original Python installation to customize it for the project that we'are working on."
   ]
  },
  {
   "cell_type": "markdown",
   "metadata": {
    "slideshow": {
     "slide_type": "fragment"
    }
   },
   "source": [
    "Our goal is to write slides for this class, isn't it?"
   ]
  },
  {
   "cell_type": "code",
   "execution_count": 1,
   "metadata": {
    "slideshow": {
     "slide_type": "slide"
    }
   },
   "outputs": [
    {
     "name": "stdout",
     "output_type": "stream",
     "text": [
      "The Zen of Python, by Tim Peters\n",
      "\n",
      "Beautiful is better than ugly.\n",
      "Explicit is better than implicit.\n",
      "Simple is better than complex.\n",
      "Complex is better than complicated.\n",
      "Flat is better than nested.\n",
      "Sparse is better than dense.\n",
      "Readability counts.\n",
      "Special cases aren't special enough to break the rules.\n",
      "Although practicality beats purity.\n",
      "Errors should never pass silently.\n",
      "Unless explicitly silenced.\n",
      "In the face of ambiguity, refuse the temptation to guess.\n",
      "There should be one-- and preferably only one --obvious way to do it.\n",
      "Although that way may not be obvious at first unless you're Dutch.\n",
      "Now is better than never.\n",
      "Although never is often better than *right* now.\n",
      "If the implementation is hard to explain, it's a bad idea.\n",
      "If the implementation is easy to explain, it may be a good idea.\n",
      "Namespaces are one honking great idea -- let's do more of those!\n"
     ]
    }
   ],
   "source": [
    "import this"
   ]
  },
  {
   "cell_type": "markdown",
   "metadata": {
    "slideshow": {
     "slide_type": "slide"
    }
   },
   "source": [
    "## Some expressions"
   ]
  },
  {
   "cell_type": "code",
   "execution_count": 3,
   "metadata": {
    "slideshow": {
     "slide_type": "-"
    }
   },
   "outputs": [
    {
     "data": {
      "text/plain": [
       "[0, 1, 4, 9, 16, 25, 36, 49, 64, 81]"
      ]
     },
     "execution_count": 3,
     "metadata": {},
     "output_type": "execute_result"
    }
   ],
   "source": [
    "[i ** 2 for i in range(10)]"
   ]
  },
  {
   "cell_type": "code",
   "execution_count": 1,
   "metadata": {},
   "outputs": [
    {
     "name": "stdout",
     "output_type": "stream",
     "text": [
      "best-practices.ipynb  LICENSE  README.md  venv-unifi\r\n"
     ]
    }
   ],
   "source": [
    "!ls"
   ]
  },
  {
   "cell_type": "code",
   "execution_count": 1,
   "metadata": {
    "slideshow": {
     "slide_type": "subslide"
    }
   },
   "outputs": [
    {
     "name": "stdout",
     "output_type": "stream",
     "text": [
      "\u001b[33mcommit 2110937e922e0c4f4d9e9f4bf915e4e067a11a11\u001b[m\u001b[33m (\u001b[m\u001b[1;36mHEAD -> \u001b[m\u001b[1;32mmaster\u001b[m\u001b[33m, \u001b[m\u001b[1;31morigin/master\u001b[m\u001b[33m, \u001b[m\u001b[1;31morigin/HEAD\u001b[m\u001b[33m)\u001b[m\r\n",
      "Author: Massimo Nocentini <massimo.nocentini@gmail.com>\r\n",
      "Date:   Wed May 6 07:55:54 2020 +0200\r\n",
      "\r\n",
      "    Add a link to read our notebook\r\n",
      "\r\n",
      "\u001b[33mcommit 57d67d0fe981318788f6e9e82c50ccf632238fba\u001b[m\r\n",
      "Author: Massimo Nocentini <massimo.nocentini@gmail.com>\r\n",
      "Date:   Wed May 6 07:54:24 2020 +0200\r\n",
      "\r\n",
      "    Add NBViewer.\r\n",
      "\r\n",
      "\u001b[33mcommit ab7f3011cddeab4b6098f03c9d9dae80f840c69b\u001b[m\r\n",
      "Author: Massimo Nocentini <massimo.nocentini@gmail.com>\r\n",
      "Date:   Wed May 6 07:49:55 2020 +0200\r\n",
      "\r\n",
      "    Add our brend new notebook\r\n",
      "\r\n",
      "\u001b[33mcommit 300535af30d794bf1611472a4c232d3028c41039\u001b[m\r\n",
      "Author: Massimo Nocentini <massimo.nocentini@gmail.com>\r\n",
      "Date:   Wed May 6 07:39:22 2020 +0200\r\n",
      "\r\n",
      "    Add the .gitignore file.\r\n",
      "\r\n",
      "\u001b[33mcommit b5901d20c088b844d8a6db54aaf0aae99ae8e598\u001b[m\r\n",
      "Author: Massimo Nocentini <massimo.nocentini@gmail.com>\r\n",
      "Date:   Wed May 6 07:31:50 2020 +0200\r\n",
      "\r\n",
      "    Add a simple sentence.\r\n",
      "\r\n",
      "\u001b[33mcommit 04bb16e41b9660d6863c3e3c8d962dc6198dd809\u001b[m\r\n",
      "Author: Massimo Nocentini <massimo.nocentini@gmail.com>\r\n",
      "Date:   Wed May 6 07:27:47 2020 +0200\r\n",
      "\r\n",
      "    Initial commit\r\n"
     ]
    }
   ],
   "source": [
    "!git log"
   ]
  },
  {
   "cell_type": "markdown",
   "metadata": {
    "slideshow": {
     "slide_type": "slide"
    }
   },
   "source": [
    "## NBViewer tool\n",
    "\n",
    "So far everything was local, but we can read the current notebook using https://nbviewer.jupyter.org/ and in particular following our dedicated URL \n",
    "\n",
    "https://nbviewer.jupyter.org/github/massimo-nocentini/for-live-python-class/blob/master/best-practices.ipynb"
   ]
  },
  {
   "cell_type": "markdown",
   "metadata": {
    "slideshow": {
     "slide_type": "slide"
    }
   },
   "source": [
    "## Generate slides from myself"
   ]
  },
  {
   "cell_type": "code",
   "execution_count": null,
   "metadata": {},
   "outputs": [],
   "source": [
    "jupyter-nbconvert best-practices.ipynb --to slides"
   ]
  },
  {
   "cell_type": "markdown",
   "metadata": {
    "slideshow": {
     "slide_type": "slide"
    }
   },
   "source": [
    "## This notebook needs no title at all\n",
    "\n",
    "Thank you, Raymond E. Smullyan. (for his book see https://openlibrary.org/works/OL1867034W/This_book_needs_no_title)\n",
    "\n",
    "Everything is versioned in the Github repository https://github.com/massimo-nocentini/for-live-python-class"
   ]
  }
 ],
 "metadata": {
  "celltoolbar": "Slideshow",
  "kernelspec": {
   "display_name": "Python 3",
   "language": "python",
   "name": "python3"
  },
  "language_info": {
   "codemirror_mode": {
    "name": "ipython",
    "version": 3
   },
   "file_extension": ".py",
   "mimetype": "text/x-python",
   "name": "python",
   "nbconvert_exporter": "python",
   "pygments_lexer": "ipython3",
   "version": "3.8.2"
  }
 },
 "nbformat": 4,
 "nbformat_minor": 4
}
